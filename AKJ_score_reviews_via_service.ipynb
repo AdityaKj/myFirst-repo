{
  "nbformat": 4,
  "nbformat_minor": 0,
  "metadata": {
    "anaconda-cloud": {},
    "kernelspec": {
      "display_name": "Python 3",
      "language": "python",
      "name": "python3"
    },
    "language_info": {
      "codemirror_mode": {
        "name": "ipython",
        "version": 2
      },
      "file_extension": ".py",
      "mimetype": "text/x-python",
      "name": "python",
      "nbconvert_exporter": "python",
      "pygments_lexer": "ipython2",
      "version": "2.7.3"
    },
    "pycharm": {
      "stem_cell": {
        "cell_type": "raw",
        "metadata": {
          "collapsed": false
        },
        "source": []
      }
    },
    "colab": {
      "name": "AKJ_score_reviews_via_service.ipynb",
      "provenance": [],
      "collapsed_sections": []
    }
  },
  "cells": [
    {
      "cell_type": "code",
      "metadata": {
        "id": "_DYb99Et72xM",
        "colab_type": "code",
        "colab": {}
      },
      "source": [
        "from IPython import InteractiveShell\n",
        "InteractiveShell.ast_node_interactivity = 'all'"
      ],
      "execution_count": 2,
      "outputs": []
    },
    {
      "cell_type": "markdown",
      "metadata": {
        "id": "NZ2wGGU7NBqY",
        "colab_type": "text"
      },
      "source": [
        "## Part 1: Existing Machine Learning Services\n",
        "\n",
        "<a href=\"https://colab.research.google.com/github/peckjon/hosting-ml-as-microservice/blob/master/part1/score_reviews_via_service.ipynb\" target=\"_parent\"><img src=\"https://colab.research.google.com/assets/colab-badge.svg\" alt=\"Open In Colab\"/></a>"
      ]
    },
    {
      "cell_type": "markdown",
      "metadata": {
        "id": "Z0MOVdV3NBqb",
        "colab_type": "text"
      },
      "source": [
        "### Obtain labelled reviews\n",
        "\n",
        "In order to test any of the sentiment analysis APIs, we need a labelled dataset of reviews and their sentiment polarity. We'll use NLTK to download the movie_reviews corpus."
      ]
    },
    {
      "cell_type": "code",
      "metadata": {
        "pycharm": {
          "name": "#%%\n"
        },
        "id": "A8lTYNY4NBqc",
        "colab_type": "code",
        "colab": {
          "base_uri": "https://localhost:8080/",
          "height": 119
        },
        "outputId": "2f5bdfe5-4601-48b3-db1e-a20884f1db24"
      },
      "source": [
        "from nltk import download\n",
        "\n",
        "download('movie_reviews')\n",
        "download('stopwords')\n",
        "download('wordnet')\n",
        "\n",
        "from nltk.corpus import stopwords\n",
        "stop = stopwords.words('english')\n",
        "\n",
        "from textblob import Word"
      ],
      "execution_count": 1,
      "outputs": [
        {
          "output_type": "stream",
          "text": [
            "[nltk_data] Downloading package movie_reviews to /root/nltk_data...\n",
            "[nltk_data]   Unzipping corpora/movie_reviews.zip.\n",
            "[nltk_data] Downloading package stopwords to /root/nltk_data...\n",
            "[nltk_data]   Unzipping corpora/stopwords.zip.\n",
            "[nltk_data] Downloading package wordnet to /root/nltk_data...\n",
            "[nltk_data]   Unzipping corpora/wordnet.zip.\n"
          ],
          "name": "stdout"
        }
      ]
    },
    {
      "cell_type": "markdown",
      "metadata": {
        "id": "akrTMsaiNBqj",
        "colab_type": "text"
      },
      "source": [
        "### Load the data\n",
        "\n",
        "The files in movie_reviews have already been divided into two sets: positive ('pos') and negative ('neg'), so we can load the raw text of the reviews into two lists, one for each polarity."
      ]
    },
    {
      "cell_type": "code",
      "metadata": {
        "id": "jOhT40E_NBqk",
        "colab_type": "code",
        "colab": {}
      },
      "source": [
        "from nltk.corpus import movie_reviews\n",
        "\n",
        "# extract words from reviews, pair with label\n",
        "\n",
        "reviews_pos = []\n",
        "for fileid in movie_reviews.fileids('pos'):\n",
        "    review = movie_reviews.raw(fileid)\n",
        "    reviews_pos.append(review)\n",
        "\n",
        "reviews_neg = []\n",
        "for fileid in movie_reviews.fileids('neg'):\n",
        "    review = movie_reviews.raw(fileid)\n",
        "    reviews_neg.append(review)"
      ],
      "execution_count": 9,
      "outputs": []
    },
    {
      "cell_type": "code",
      "metadata": {
        "id": "3IIRlrEV8c-6",
        "colab_type": "code",
        "colab": {
          "base_uri": "https://localhost:8080/",
          "height": 34
        },
        "outputId": "2f7be98d-26a2-474f-8d24-bb6422ac60d3"
      },
      "source": [
        "len(reviews_pos) , len(reviews_neg)\n",
        "import pandas as pd\n",
        "import re"
      ],
      "execution_count": 10,
      "outputs": [
        {
          "output_type": "execute_result",
          "data": {
            "text/plain": [
              "(1000, 1000)"
            ]
          },
          "metadata": {
            "tags": []
          },
          "execution_count": 10
        }
      ]
    },
    {
      "cell_type": "code",
      "metadata": {
        "id": "eFRxETg_9tZ5",
        "colab_type": "code",
        "colab": {
          "base_uri": "https://localhost:8080/",
          "height": 357
        },
        "outputId": "63e5edf2-61b0-44b9-8d1e-2d684922974e"
      },
      "source": [
        "# lists to df for faster preprocessing\n",
        "df = pd.DataFrame(data = {'pos':reviews_pos,'neg':reviews_neg})\n",
        "df.info()\n",
        "df.head()"
      ],
      "execution_count": 11,
      "outputs": [
        {
          "output_type": "stream",
          "text": [
            "<class 'pandas.core.frame.DataFrame'>\n",
            "RangeIndex: 1000 entries, 0 to 999\n",
            "Data columns (total 2 columns):\n",
            " #   Column  Non-Null Count  Dtype \n",
            "---  ------  --------------  ----- \n",
            " 0   pos     1000 non-null   object\n",
            " 1   neg     1000 non-null   object\n",
            "dtypes: object(2)\n",
            "memory usage: 15.8+ KB\n"
          ],
          "name": "stdout"
        },
        {
          "output_type": "execute_result",
          "data": {
            "text/html": [
              "<div>\n",
              "<style scoped>\n",
              "    .dataframe tbody tr th:only-of-type {\n",
              "        vertical-align: middle;\n",
              "    }\n",
              "\n",
              "    .dataframe tbody tr th {\n",
              "        vertical-align: top;\n",
              "    }\n",
              "\n",
              "    .dataframe thead th {\n",
              "        text-align: right;\n",
              "    }\n",
              "</style>\n",
              "<table border=\"1\" class=\"dataframe\">\n",
              "  <thead>\n",
              "    <tr style=\"text-align: right;\">\n",
              "      <th></th>\n",
              "      <th>pos</th>\n",
              "      <th>neg</th>\n",
              "    </tr>\n",
              "  </thead>\n",
              "  <tbody>\n",
              "    <tr>\n",
              "      <th>0</th>\n",
              "      <td>films adapted from comic books have had plenty...</td>\n",
              "      <td>plot : two teen couples go to a church party ,...</td>\n",
              "    </tr>\n",
              "    <tr>\n",
              "      <th>1</th>\n",
              "      <td>every now and then a movie comes along from a ...</td>\n",
              "      <td>the happy bastard's quick movie review \\ndamn ...</td>\n",
              "    </tr>\n",
              "    <tr>\n",
              "      <th>2</th>\n",
              "      <td>you've got mail works alot better than it dese...</td>\n",
              "      <td>it is movies like these that make a jaded movi...</td>\n",
              "    </tr>\n",
              "    <tr>\n",
              "      <th>3</th>\n",
              "      <td>\" jaws \" is a rare film that grabs your atten...</td>\n",
              "      <td>\" quest for camelot \" is warner bros . ' firs...</td>\n",
              "    </tr>\n",
              "    <tr>\n",
              "      <th>4</th>\n",
              "      <td>moviemaking is a lot like being the general ma...</td>\n",
              "      <td>synopsis : a mentally unstable man undergoing ...</td>\n",
              "    </tr>\n",
              "  </tbody>\n",
              "</table>\n",
              "</div>"
            ],
            "text/plain": [
              "                                                 pos                                                neg\n",
              "0  films adapted from comic books have had plenty...  plot : two teen couples go to a church party ,...\n",
              "1  every now and then a movie comes along from a ...  the happy bastard's quick movie review \\ndamn ...\n",
              "2  you've got mail works alot better than it dese...  it is movies like these that make a jaded movi...\n",
              "3   \" jaws \" is a rare film that grabs your atten...   \" quest for camelot \" is warner bros . ' firs...\n",
              "4  moviemaking is a lot like being the general ma...  synopsis : a mentally unstable man undergoing ..."
            ]
          },
          "metadata": {
            "tags": []
          },
          "execution_count": 11
        }
      ]
    },
    {
      "cell_type": "code",
      "metadata": {
        "id": "M5GzEKpkIqcb",
        "colab_type": "code",
        "colab": {
          "base_uri": "https://localhost:8080/",
          "height": 51
        },
        "outputId": "031cd9cb-e213-4fd1-d602-eb5970c458e4"
      },
      "source": [
        "%%time\n",
        "# clean punct,special chars\n",
        "# df['pos'] = df['pos'].apply(lambda x: re.sub('[^A-Za-z|.]+',' ',x))\n",
        "# df['neg'] = df['neg'].apply(lambda x: re.sub('[^A-Za-z|.]+',' ',x))\n",
        "\n",
        "# clean punct,special chars\n",
        "df['pos'] = df['pos'].apply(lambda x: re.sub('[^A-Za-z]+',' ',x))\n",
        "df['neg'] = df['neg'].apply(lambda x: re.sub('[^A-Za-z]+',' ',x))\n",
        "\n",
        "# remove stopwords\n",
        "df['pos'] = df['pos'].apply(lambda x : ' '.join(x for x in x.split() if x not in stop))\n",
        "df['neg'] = df['neg'].apply(lambda x : ' '.join(x for x in x.split() if x not in stop))\n",
        "\n",
        "# lemmatization\n",
        "df['pos'] = df['pos'].apply(lambda x : \" \".join([Word(word).lemmatize() for word in x.split()]))\n",
        "df['neg'] = df['neg'].apply(lambda x : \" \".join([Word(word).lemmatize() for word in x.split()]))\n",
        "\n"
      ],
      "execution_count": 12,
      "outputs": [
        {
          "output_type": "stream",
          "text": [
            "CPU times: user 6.49 s, sys: 22.1 ms, total: 6.52 s\n",
            "Wall time: 6.52 s\n"
          ],
          "name": "stdout"
        }
      ]
    },
    {
      "cell_type": "code",
      "metadata": {
        "id": "ZSZ_Z7CHPHvw",
        "colab_type": "code",
        "colab": {
          "base_uri": "https://localhost:8080/",
          "height": 204
        },
        "outputId": "9b7f5ed9-e659-42e0-c45c-729a1442b207"
      },
      "source": [
        "df.head()"
      ],
      "execution_count": 13,
      "outputs": [
        {
          "output_type": "execute_result",
          "data": {
            "text/html": [
              "<div>\n",
              "<style scoped>\n",
              "    .dataframe tbody tr th:only-of-type {\n",
              "        vertical-align: middle;\n",
              "    }\n",
              "\n",
              "    .dataframe tbody tr th {\n",
              "        vertical-align: top;\n",
              "    }\n",
              "\n",
              "    .dataframe thead th {\n",
              "        text-align: right;\n",
              "    }\n",
              "</style>\n",
              "<table border=\"1\" class=\"dataframe\">\n",
              "  <thead>\n",
              "    <tr style=\"text-align: right;\">\n",
              "      <th></th>\n",
              "      <th>pos</th>\n",
              "      <th>neg</th>\n",
              "    </tr>\n",
              "  </thead>\n",
              "  <tbody>\n",
              "    <tr>\n",
              "      <th>0</th>\n",
              "      <td>film adapted comic book plenty success whether...</td>\n",
              "      <td>plot two teen couple go church party drink dri...</td>\n",
              "    </tr>\n",
              "    <tr>\n",
              "      <th>1</th>\n",
              "      <td>every movie come along suspect studio every in...</td>\n",
              "      <td>happy bastard quick movie review damn k bug go...</td>\n",
              "    </tr>\n",
              "    <tr>\n",
              "      <th>2</th>\n",
              "      <td>got mail work alot better deserves order make ...</td>\n",
              "      <td>movie like make jaded movie viewer thankful in...</td>\n",
              "    </tr>\n",
              "    <tr>\n",
              "      <th>3</th>\n",
              "      <td>jaw rare film grab attention show single image...</td>\n",
              "      <td>quest camelot warner bros first feature length...</td>\n",
              "    </tr>\n",
              "    <tr>\n",
              "      <th>4</th>\n",
              "      <td>moviemaking lot like general manager nfl team ...</td>\n",
              "      <td>synopsis mentally unstable man undergoing psyc...</td>\n",
              "    </tr>\n",
              "  </tbody>\n",
              "</table>\n",
              "</div>"
            ],
            "text/plain": [
              "                                                 pos                                                neg\n",
              "0  film adapted comic book plenty success whether...  plot two teen couple go church party drink dri...\n",
              "1  every movie come along suspect studio every in...  happy bastard quick movie review damn k bug go...\n",
              "2  got mail work alot better deserves order make ...  movie like make jaded movie viewer thankful in...\n",
              "3  jaw rare film grab attention show single image...  quest camelot warner bros first feature length...\n",
              "4  moviemaking lot like general manager nfl team ...  synopsis mentally unstable man undergoing psyc..."
            ]
          },
          "metadata": {
            "tags": []
          },
          "execution_count": 13
        }
      ]
    },
    {
      "cell_type": "code",
      "metadata": {
        "id": "7H8elKuQEJpf",
        "colab_type": "code",
        "colab": {
          "base_uri": "https://localhost:8080/",
          "height": 204
        },
        "outputId": "c9503584-83c5-4a67-8690-aa51091e9c40"
      },
      "source": [
        "df['pos_count'] = df['pos'].apply(lambda x: len(''.join(x.split())))\n",
        "df['neg_count'] = df['neg'].apply(lambda x: len(''.join(x.split())))\n",
        "df.head()"
      ],
      "execution_count": 23,
      "outputs": [
        {
          "output_type": "execute_result",
          "data": {
            "text/html": [
              "<div>\n",
              "<style scoped>\n",
              "    .dataframe tbody tr th:only-of-type {\n",
              "        vertical-align: middle;\n",
              "    }\n",
              "\n",
              "    .dataframe tbody tr th {\n",
              "        vertical-align: top;\n",
              "    }\n",
              "\n",
              "    .dataframe thead th {\n",
              "        text-align: right;\n",
              "    }\n",
              "</style>\n",
              "<table border=\"1\" class=\"dataframe\">\n",
              "  <thead>\n",
              "    <tr style=\"text-align: right;\">\n",
              "      <th></th>\n",
              "      <th>pos</th>\n",
              "      <th>neg</th>\n",
              "      <th>pos_count</th>\n",
              "      <th>neg_count</th>\n",
              "    </tr>\n",
              "  </thead>\n",
              "  <tbody>\n",
              "    <tr>\n",
              "      <th>0</th>\n",
              "      <td>film adapted comic book plenty success whether...</td>\n",
              "      <td>plot two teen couple go church party drink dri...</td>\n",
              "      <td>2338</td>\n",
              "      <td>1824</td>\n",
              "    </tr>\n",
              "    <tr>\n",
              "      <th>1</th>\n",
              "      <td>every movie come along suspect studio every in...</td>\n",
              "      <td>happy bastard quick movie review damn k bug go...</td>\n",
              "      <td>2201</td>\n",
              "      <td>697</td>\n",
              "    </tr>\n",
              "    <tr>\n",
              "      <th>2</th>\n",
              "      <td>got mail work alot better deserves order make ...</td>\n",
              "      <td>movie like make jaded movie viewer thankful in...</td>\n",
              "      <td>1215</td>\n",
              "      <td>1511</td>\n",
              "    </tr>\n",
              "    <tr>\n",
              "      <th>3</th>\n",
              "      <td>jaw rare film grab attention show single image...</td>\n",
              "      <td>quest camelot warner bros first feature length...</td>\n",
              "      <td>3325</td>\n",
              "      <td>1603</td>\n",
              "    </tr>\n",
              "    <tr>\n",
              "      <th>4</th>\n",
              "      <td>moviemaking lot like general manager nfl team ...</td>\n",
              "      <td>synopsis mentally unstable man undergoing psyc...</td>\n",
              "      <td>2092</td>\n",
              "      <td>2376</td>\n",
              "    </tr>\n",
              "  </tbody>\n",
              "</table>\n",
              "</div>"
            ],
            "text/plain": [
              "                                                 pos  ... neg_count\n",
              "0  film adapted comic book plenty success whether...  ...      1824\n",
              "1  every movie come along suspect studio every in...  ...       697\n",
              "2  got mail work alot better deserves order make ...  ...      1511\n",
              "3  jaw rare film grab attention show single image...  ...      1603\n",
              "4  moviemaking lot like general manager nfl team ...  ...      2376\n",
              "\n",
              "[5 rows x 4 columns]"
            ]
          },
          "metadata": {
            "tags": []
          },
          "execution_count": 23
        }
      ]
    },
    {
      "cell_type": "code",
      "metadata": {
        "id": "a7TuwM10IPX7",
        "colab_type": "code",
        "colab": {
          "base_uri": "https://localhost:8080/",
          "height": 34
        },
        "outputId": "1461b72f-65c6-496a-c3e8-f3831d13fead"
      },
      "source": [
        "len(df[(df['neg_count']>4256) & (df['neg_count']<=4300)]['neg']) , len(df[(df['pos_count']>4256) & (df['pos_count']<=4300)]['pos'])"
      ],
      "execution_count": 180,
      "outputs": [
        {
          "output_type": "execute_result",
          "data": {
            "text/plain": [
              "(1, 3)"
            ]
          },
          "metadata": {
            "tags": []
          },
          "execution_count": 180
        }
      ]
    },
    {
      "cell_type": "code",
      "metadata": {
        "id": "50s7fI2SV-ee",
        "colab_type": "code",
        "colab": {
          "base_uri": "https://localhost:8080/",
          "height": 34
        },
        "outputId": "4ddcce29-ca43-4908-8fbe-0e255002195c"
      },
      "source": [
        "len(df[(df['pos_count']<=4400)]) , len(df[(df['neg_count']<=4400)])"
      ],
      "execution_count": 185,
      "outputs": [
        {
          "output_type": "execute_result",
          "data": {
            "text/plain": [
              "(968, 989)"
            ]
          },
          "metadata": {
            "tags": []
          },
          "execution_count": 185
        }
      ]
    },
    {
      "cell_type": "code",
      "metadata": {
        "id": "slACsZb_QaMP",
        "colab_type": "code",
        "colab": {
          "base_uri": "https://localhost:8080/",
          "height": 34
        },
        "outputId": "48e1fd94-ba14-4f7e-855e-3ec2db8e583f"
      },
      "source": [
        "# back to lists\n",
        "reviews_pos = df[df['pos_count']<=4300]['pos'].to_list()\n",
        "reviews_neg = df[df['neg_count']<=4300]['neg'].to_list()\n",
        "\n",
        "len(reviews_pos) , len(reviews_neg)"
      ],
      "execution_count": 184,
      "outputs": [
        {
          "output_type": "execute_result",
          "data": {
            "text/plain": [
              "(960, 984)"
            ]
          },
          "metadata": {
            "tags": []
          },
          "execution_count": 184
        }
      ]
    },
    {
      "cell_type": "markdown",
      "metadata": {
        "id": "pNCZVSD3NBqp",
        "colab_type": "text"
      },
      "source": [
        "### Connect to the scoring API\n",
        "\n",
        "Fill in this function with code that connects to one of these APIs, and uses it to score a single review:\n",
        "\n",
        "* [Amazon Comprehend: Detect Sentiment](https://docs.aws.amazon.com/comprehend/latest/dg/API_DetectSentiment.html)\n",
        "* [Google Natural Language: Analyzing Sentiment](https://cloud.google.com/natural-language/docs/analyzing-sentiment)\n",
        "* [Azure Cognitive Services: Sentiment Analysis](https://docs.microsoft.com/en-us/azure/cognitive-services/text-analytics/how-tos/text-analytics-how-to-sentiment-analysis)\n",
        "* [Algorithmia: Sentiment Analysis](https://algorithmia.com/algorithms/nlp/SentimentAnalysis)\n",
        "\n",
        "Your function must return either 'pos' or 'neg', so you'll need to make some decisions about how to map the results of the API call to one of these values. For example, Amazon Comprehend can return \"NEUTRAL\" or \"MIXED\" for the Sentiment -- if this happens, you may with to inspect the numeric values under the SentimentScore to see whether it leans toward positive or negative.\n"
      ]
    },
    {
      "cell_type": "code",
      "metadata": {
        "id": "KQwX5I_O85yq",
        "colab_type": "code",
        "colab": {}
      },
      "source": [
        "import requests\n",
        "# pprint is used to format the JSON response\n",
        "from pprint import pprint\n",
        "\n",
        "import os\n",
        "\n",
        "subscription_key = \"3133ab6ea6dd46d399aef0fc954e8a48\"\n",
        "endpoint = \"https://text-akj.cognitiveservices.azure.com\"\n",
        "\n",
        "sentiment_url = endpoint + \"/text/analytics/v3.0/sentiment\"\n",
        "headers = {\"Ocp-Apim-Subscription-Key\": subscription_key}"
      ],
      "execution_count": 20,
      "outputs": []
    },
    {
      "cell_type": "code",
      "metadata": {
        "id": "Wkku7CIUNBqq",
        "colab_type": "code",
        "colab": {}
      },
      "source": [
        "def score_review(review):\n",
        "    # TBD: call the service and return 'pos' or 'neg'\n",
        "    documents = {\"documents\": [{\"id\": \"1\", \"language\": \"en\",\"text\": review }]}\n",
        "    \n",
        "    response = requests.post(sentiment_url, headers=headers, json=documents)\n",
        "    sentiments = response.json()\n",
        "    scores =sentiments['documents'][0]['confidenceScores']\n",
        "\n",
        "    result = None\n",
        "    if scores['neutral'] > scores['positive'] > scores['negative']:\n",
        "      result = 'pos'\n",
        "    elif scores['neutral'] > scores['negative'] > scores['positive']:\n",
        "      result = 'neg'\n",
        "    elif max(scores,key=scores.get) == 'negative':\n",
        "      result = 'neg'\n",
        "    else:\n",
        "      result = 'pos'\n",
        "\n",
        "    return result"
      ],
      "execution_count": 35,
      "outputs": []
    },
    {
      "cell_type": "markdown",
      "metadata": {
        "id": "hEy_6GYTNBqv",
        "colab_type": "text"
      },
      "source": [
        "### Score each review\n",
        "\n",
        "Now, we can use the function you defined to score each of the reviews"
      ]
    },
    {
      "cell_type": "code",
      "metadata": {
        "id": "0Rd4iHv9_8PY",
        "colab_type": "code",
        "colab": {}
      },
      "source": [
        "# Blank result list init\n",
        "results_pos = []\n",
        "results_neg = []"
      ],
      "execution_count": null,
      "outputs": []
    },
    {
      "cell_type": "code",
      "metadata": {
        "id": "JzM9IHx7J8HK",
        "colab_type": "code",
        "colab": {
          "base_uri": "https://localhost:8080/",
          "height": 68
        },
        "outputId": "44f09bda-8665-4dbb-e791-9c1756308da4"
      },
      "source": [
        "# Positive reviews\n",
        "li = len(results_pos)\n",
        "for review in reviews_pos[li:li+99]:\n",
        "    result = score_review(review)\n",
        "    results_pos.append(result)\n",
        "\n",
        "print(len(results_pos))\n",
        "print('Next li:{}'.format(li+99))"
      ],
      "execution_count": 186,
      "outputs": [
        {
          "output_type": "stream",
          "text": [
            "951\n",
            "CPU times: user 761 ms, sys: 49.1 ms, total: 810 ms\n",
            "Wall time: 13.6 s\n"
          ],
          "name": "stdout"
        }
      ]
    },
    {
      "cell_type": "code",
      "metadata": {
        "id": "vOTBoP7nAs_-",
        "colab_type": "code",
        "colab": {
          "base_uri": "https://localhost:8080/",
          "height": 51
        },
        "outputId": "4aba850a-8658-4bcf-8235-7fecea876d51"
      },
      "source": [
        "# Negative reviews\n",
        "li = len(results_neg)\n",
        "for review in reviews_neg[li:li+99]:\n",
        "    result = score_review(review)\n",
        "    results_neg.append(result)\n",
        "\n",
        "print(len(results_neg))\n",
        "print('Next li:{}'.format(li+99))"
      ],
      "execution_count": 212,
      "outputs": [
        {
          "output_type": "stream",
          "text": [
            "984\n",
            "Next li:990\n"
          ],
          "name": "stdout"
        }
      ]
    },
    {
      "cell_type": "code",
      "metadata": {
        "id": "CEwTLXX3A6SQ",
        "colab_type": "code",
        "colab": {
          "base_uri": "https://localhost:8080/",
          "height": 34
        },
        "outputId": "0fdd6842-ce41-4129-feb5-75fb3ac2ef5f"
      },
      "source": [
        "len(results_pos),len(results_neg)"
      ],
      "execution_count": 213,
      "outputs": [
        {
          "output_type": "execute_result",
          "data": {
            "text/plain": [
              "(951, 984)"
            ]
          },
          "metadata": {
            "tags": []
          },
          "execution_count": 213
        }
      ]
    },
    {
      "cell_type": "code",
      "metadata": {
        "id": "gJuW9dTZNBqw",
        "colab_type": "code",
        "colab": {}
      },
      "source": [
        "# %%time\n",
        "# results_pos = []\n",
        "# for review in reviews_pos:\n",
        "#     result = score_review(review)\n",
        "#     results_pos.append(result)\n",
        "\n",
        "# results_neg = []\n",
        "# for review in reviews_neg:\n",
        "#     result = score_review(review)\n",
        "#     results_neg.append(result)"
      ],
      "execution_count": null,
      "outputs": []
    },
    {
      "cell_type": "markdown",
      "metadata": {
        "id": "_qQqTYKaNBq1",
        "colab_type": "text"
      },
      "source": [
        "### Calculate accuracy\n",
        "\n",
        "For each of our known positive reviews, we can count the number which our function scored as 'pos', and use this to calculate the % accuracy. We repeaty this for negative reviews, and also for overall accuracy."
      ]
    },
    {
      "cell_type": "code",
      "metadata": {
        "id": "8ugESBUhNBq3",
        "colab_type": "code",
        "colab": {
          "base_uri": "https://localhost:8080/",
          "height": 68
        },
        "outputId": "a375cbd8-678c-44c9-a5f2-166a2f29486a"
      },
      "source": [
        "correct_pos = results_pos.count('pos')\n",
        "accuracy_pos = float(correct_pos) / len(results_pos)\n",
        "correct_neg = results_neg.count('neg')\n",
        "accuracy_neg = float(correct_neg) / len(results_neg)\n",
        "correct_all = correct_pos + correct_neg\n",
        "accuracy_all = float(correct_all) / (len(results_pos)+len(results_neg))\n",
        "\n",
        "print('Positive reviews: {}% correct'.format(accuracy_pos*100))\n",
        "print('Negative reviews: {}% correct'.format(accuracy_neg*100))\n",
        "print('Overall accuracy: {}% correct'.format(accuracy_all*100))"
      ],
      "execution_count": 215,
      "outputs": [
        {
          "output_type": "stream",
          "text": [
            "Positive reviews: 32.3869610935857% correct\n",
            "Negative reviews: 94.10569105691057% correct\n",
            "Overall accuracy: 63.77260981912145% correct\n"
          ],
          "name": "stdout"
        }
      ]
    }
  ]
}